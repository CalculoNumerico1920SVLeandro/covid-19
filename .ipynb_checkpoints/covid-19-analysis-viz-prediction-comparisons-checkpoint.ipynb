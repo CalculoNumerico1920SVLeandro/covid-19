{
 "cells": [
  {
   "cell_type": "markdown",
   "metadata": {},
   "source": [
    "# Corona Virus\n",
    "\n",
    "* Coronaviruses are **zoonotic** viruses (means transmitted between animals and people).  \n",
    "* Symptoms include from fever, cough, respiratory symptoms, and breathing difficulties. \n",
    "* In severe cases, it can cause pneumonia, severe acute respiratory syndrome (SARS), kidney failure and even death.\n",
    "* Coronaviruses are also asymptomatic, means a person can be a carrier for the infection but experiences no symptoms\n",
    "\n",
    "# Novel coronavirus (nCoV)\n",
    "* A **novel coronavirus (nCoV)** is a new strain that has not been previously identified in humans.\n",
    "\n",
    "# COVID-19 (Corona Virus Disease 2019)\n",
    "* Caused by a **SARS-COV-2** corona virus.  \n",
    "* First identified in **Wuhan, Hubei, China**. Earliest reported symptoms reported in **November 2019**. \n",
    "* First cases were linked to contact with the Huanan Seafood Wholesale Market, which sold live animals. \n",
    "* On 30 January the WHO declared the outbreak to be a Public Health Emergency of International Concern "
   ]
  },
  {
   "cell_type": "markdown",
   "metadata": {},
   "source": [
    "# Acknowledgements\n",
    "\n",
    "> https://github.com/CSSEGISandData/COVID-19\n",
    "\n",
    "# Collection methodology\n",
    "\n",
    "> https://github.com/imdevskp/covid_19_jhu_data_web_scrap_and_cleaning"
   ]
  },
  {
   "cell_type": "markdown",
   "metadata": {},
   "source": [
    "# Libraries"
   ]
  },
  {
   "cell_type": "markdown",
   "metadata": {},
   "source": [
    "### Install"
   ]
  },
  {
   "cell_type": "code",
   "execution_count": 1,
   "metadata": {
    "_kg_hide-input": true,
    "_kg_hide-output": true
   },
   "outputs": [
    {
     "name": "stderr",
     "output_type": "stream",
     "text": [
      "'pip' is not recognized as an internal or external command,\n",
      "operable program or batch file.\n"
     ]
    }
   ],
   "source": [
    "# install calmap\n",
    "! pip install calmap"
   ]
  },
  {
   "cell_type": "markdown",
   "metadata": {},
   "source": [
    "### Import"
   ]
  },
  {
   "cell_type": "code",
   "execution_count": 2,
   "metadata": {
    "_cell_guid": "b1076dfc-b9ad-4769-8c92-a6c4dae69d19",
    "_kg_hide-input": true,
    "_kg_hide-output": true,
    "_uuid": "8f2839f25d086af736a60e9eeb907d3b93b6e0e5"
   },
   "outputs": [
    {
     "ename": "ModuleNotFoundError",
     "evalue": "No module named 'pandas'",
     "output_type": "error",
     "traceback": [
      "\u001b[1;31m---------------------------------------------------------------------------\u001b[0m",
      "\u001b[1;31mModuleNotFoundError\u001b[0m                       Traceback (most recent call last)",
      "\u001b[1;32m<ipython-input-2-bf00edc9e928>\u001b[0m in \u001b[0;36m<module>\u001b[1;34m\u001b[0m\n\u001b[0;32m      6\u001b[0m \u001b[1;31m# storing and anaysis\u001b[0m\u001b[1;33m\u001b[0m\u001b[1;33m\u001b[0m\u001b[1;33m\u001b[0m\u001b[0m\n\u001b[0;32m      7\u001b[0m \u001b[1;32mimport\u001b[0m \u001b[0mnumpy\u001b[0m \u001b[1;32mas\u001b[0m \u001b[0mnp\u001b[0m\u001b[1;33m\u001b[0m\u001b[1;33m\u001b[0m\u001b[0m\n\u001b[1;32m----> 8\u001b[1;33m \u001b[1;32mimport\u001b[0m \u001b[0mpandas\u001b[0m \u001b[1;32mas\u001b[0m \u001b[0mpd\u001b[0m\u001b[1;33m\u001b[0m\u001b[1;33m\u001b[0m\u001b[0m\n\u001b[0m\u001b[0;32m      9\u001b[0m \u001b[1;33m\u001b[0m\u001b[0m\n\u001b[0;32m     10\u001b[0m \u001b[1;31m# visualization\u001b[0m\u001b[1;33m\u001b[0m\u001b[1;33m\u001b[0m\u001b[1;33m\u001b[0m\u001b[0m\n",
      "\u001b[1;31mModuleNotFoundError\u001b[0m: No module named 'pandas'"
     ]
    }
   ],
   "source": [
    "# essential libraries\n",
    "import json\n",
    "import random\n",
    "from urllib.request import urlopen\n",
    "\n",
    "# storing and anaysis\n",
    "import numpy as np\n",
    "import pandas as pd\n",
    "\n",
    "# visualization\n",
    "import matplotlib.pyplot as plt\n",
    "import seaborn as sns\n",
    "import plotly.express as px\n",
    "import plotly.graph_objs as go\n",
    "import plotly.figure_factory as ff\n",
    "import calmap\n",
    "import folium\n",
    "\n",
    "# color pallette\n",
    "cnf = '#393e46' # confirmed - grey\n",
    "dth = '#ff2e63' # death - red\n",
    "rec = '#21bf73' # recovered - cyan\n",
    "act = '#fe9801' # active case - yellow\n",
    "\n",
    "# converter\n",
    "from pandas.plotting import register_matplotlib_converters\n",
    "register_matplotlib_converters()   \n",
    "\n",
    "# hide warnings\n",
    "import warnings\n",
    "warnings.filterwarnings('ignore')\n",
    "\n",
    "# html embedding\n",
    "from IPython.display import Javascript\n",
    "from IPython.core.display import display\n",
    "from IPython.core.display import HTML"
   ]
  },
  {
   "cell_type": "code",
   "execution_count": 1,
   "metadata": {},
   "outputs": [
    {
     "ename": "ModuleNotFoundError",
     "evalue": "No module named 'wget'",
     "output_type": "error",
     "traceback": [
      "\u001b[1;31m---------------------------------------------------------------------------\u001b[0m",
      "\u001b[1;31mModuleNotFoundError\u001b[0m                       Traceback (most recent call last)",
      "\u001b[1;32m<ipython-input-1-b4d2e731270d>\u001b[0m in \u001b[0;36m<module>\u001b[1;34m\u001b[0m\n\u001b[1;32m----> 1\u001b[1;33m \u001b[1;32mimport\u001b[0m \u001b[0mwget\u001b[0m\u001b[1;33m\u001b[0m\u001b[1;33m\u001b[0m\u001b[0m\n\u001b[0m\u001b[0;32m      2\u001b[0m \u001b[1;33m\u001b[0m\u001b[0m\n\u001b[0;32m      3\u001b[0m urls = ['https://raw.githubusercontent.com/CSSEGISandData/COVID-19/master/csse_covid_19_data/csse_covid_19_time_series/time_series_covid19_confirmed_global.csv', \n\u001b[0;32m      4\u001b[0m         'https://raw.githubusercontent.com/CSSEGISandData/COVID-19/master/csse_covid_19_data/csse_covid_19_time_series/time_series_covid19_deaths_global.csv']\n\u001b[0;32m      5\u001b[0m \u001b[1;33m\u001b[0m\u001b[0m\n",
      "\u001b[1;31mModuleNotFoundError\u001b[0m: No module named 'wget'"
     ]
    }
   ],
   "source": [
    "import wget\n",
    "\n",
    "urls = ['https://raw.githubusercontent.com/CSSEGISandData/COVID-19/master/csse_covid_19_data/csse_covid_19_time_series/time_series_covid19_confirmed_global.csv', \n",
    "        'https://raw.githubusercontent.com/CSSEGISandData/COVID-19/master/csse_covid_19_data/csse_covid_19_time_series/time_series_covid19_deaths_global.csv']\n",
    "\n",
    "for url in urls:\n",
    "    filename = wget.download(url)\n",
    "\n",
    "\n",
    "\n",
    "# dataset\n",
    "# --------\n",
    "\n",
    "conf_df = pd.read_csv('time_series_covid19_confirmed_global.csv')\n",
    "deaths_df = pd.read_csv('time_series_covid19_deaths_global.csv')\n",
    "\n"
   ]
  },
  {
   "cell_type": "markdown",
   "metadata": {},
   "source": [
    "## Merge Data"
   ]
  },
  {
   "cell_type": "code",
   "execution_count": null,
   "metadata": {},
   "outputs": [],
   "source": [
    "dates = conf_df.columns[4:]\n",
    "\n",
    "conf_df_long = conf_df.melt(id_vars=['Province/State', 'Country/Region', 'Lat', 'Long'], \n",
    "                            value_vars=dates, var_name='Date', value_name='Confirmed')\n",
    "\n",
    "deaths_df_long = deaths_df.melt(id_vars=['Province/State', 'Country/Region', 'Lat', 'Long'], \n",
    "                            value_vars=dates, var_name='Date', value_name='Deaths')\n",
    "\n",
    "# recv_df_long = recv_df.melt(id_vars=['Province/State', 'Country/Region', 'Lat', 'Long'], \n",
    "#                             value_vars=dates, var_name='Date', value_name='Recovered')\n",
    "\n",
    "full_table = pd.concat([conf_df_long, deaths_df_long['Deaths']], axis=1, sort=False)\n",
    "\n",
    "full_table.head()\n",
    "\n"
   ]
  },
  {
   "cell_type": "markdown",
   "metadata": {},
   "source": [
    "## Cleaning"
   ]
  },
  {
   "cell_type": "code",
   "execution_count": null,
   "metadata": {},
   "outputs": [],
   "source": [
    "# removing\n",
    "# =======\n",
    "\n",
    "# removing canada's recovered values\n",
    "full_table = full_table[full_table['Province/State'].str.contains('Recovered')!=True]\n",
    "\n",
    "# removing county wise data to avoid double counting\n",
    "full_table = full_table[full_table['Province/State'].str.contains(',')!=True]"
   ]
  },
  {
   "cell_type": "markdown",
   "metadata": {},
   "source": [
    "## Fixing off data from WHO data"
   ]
  },
  {
   "cell_type": "code",
   "execution_count": 2,
   "metadata": {},
   "outputs": [
    {
     "ename": "NameError",
     "evalue": "name 'full_table' is not defined",
     "output_type": "error",
     "traceback": [
      "\u001b[1;31m---------------------------------------------------------------------------\u001b[0m",
      "\u001b[1;31mNameError\u001b[0m                                 Traceback (most recent call last)",
      "\u001b[1;32m<ipython-input-2-22fdb5450643>\u001b[0m in \u001b[0;36m<module>\u001b[1;34m\u001b[0m\n\u001b[0;32m      9\u001b[0m \u001b[1;33m\u001b[0m\u001b[0m\n\u001b[0;32m     10\u001b[0m \u001b[1;31m# changing values\u001b[0m\u001b[1;33m\u001b[0m\u001b[1;33m\u001b[0m\u001b[1;33m\u001b[0m\u001b[0m\n\u001b[1;32m---> 11\u001b[1;33m \u001b[0mchange_val\u001b[0m\u001b[1;33m(\u001b[0m\u001b[1;34m'2/12/20'\u001b[0m\u001b[1;33m,\u001b[0m \u001b[1;34m'Province/State'\u001b[0m\u001b[1;33m,\u001b[0m \u001b[1;34m'Confirmed'\u001b[0m\u001b[1;33m,\u001b[0m \u001b[0mfeb_12_conf\u001b[0m\u001b[1;33m)\u001b[0m\u001b[1;33m\u001b[0m\u001b[1;33m\u001b[0m\u001b[0m\n\u001b[0m\u001b[0;32m     12\u001b[0m \u001b[1;33m\u001b[0m\u001b[0m\n\u001b[0;32m     13\u001b[0m \u001b[1;31m# checking values\u001b[0m\u001b[1;33m\u001b[0m\u001b[1;33m\u001b[0m\u001b[1;33m\u001b[0m\u001b[0m\n",
      "\u001b[1;32m<ipython-input-2-22fdb5450643>\u001b[0m in \u001b[0;36mchange_val\u001b[1;34m(date, ref_col, val_col, dtnry)\u001b[0m\n\u001b[0;32m      5\u001b[0m \u001b[1;32mdef\u001b[0m \u001b[0mchange_val\u001b[0m\u001b[1;33m(\u001b[0m\u001b[0mdate\u001b[0m\u001b[1;33m,\u001b[0m \u001b[0mref_col\u001b[0m\u001b[1;33m,\u001b[0m \u001b[0mval_col\u001b[0m\u001b[1;33m,\u001b[0m \u001b[0mdtnry\u001b[0m\u001b[1;33m)\u001b[0m\u001b[1;33m:\u001b[0m\u001b[1;33m\u001b[0m\u001b[1;33m\u001b[0m\u001b[0m\n\u001b[0;32m      6\u001b[0m     \u001b[1;32mfor\u001b[0m \u001b[0mkey\u001b[0m\u001b[1;33m,\u001b[0m \u001b[0mval\u001b[0m \u001b[1;32min\u001b[0m \u001b[0mdtnry\u001b[0m\u001b[1;33m.\u001b[0m\u001b[0mitems\u001b[0m\u001b[1;33m(\u001b[0m\u001b[1;33m)\u001b[0m\u001b[1;33m:\u001b[0m\u001b[1;33m\u001b[0m\u001b[1;33m\u001b[0m\u001b[0m\n\u001b[1;32m----> 7\u001b[1;33m         \u001b[0mfull_table\u001b[0m\u001b[1;33m.\u001b[0m\u001b[0mloc\u001b[0m\u001b[1;33m[\u001b[0m\u001b[1;33m(\u001b[0m\u001b[0mfull_table\u001b[0m\u001b[1;33m[\u001b[0m\u001b[1;34m'Date'\u001b[0m\u001b[1;33m]\u001b[0m\u001b[1;33m==\u001b[0m\u001b[0mdate\u001b[0m\u001b[1;33m)\u001b[0m \u001b[1;33m&\u001b[0m \u001b[1;33m(\u001b[0m\u001b[0mfull_table\u001b[0m\u001b[1;33m[\u001b[0m\u001b[0mref_col\u001b[0m\u001b[1;33m]\u001b[0m\u001b[1;33m==\u001b[0m\u001b[0mkey\u001b[0m\u001b[1;33m)\u001b[0m\u001b[1;33m,\u001b[0m \u001b[0mval_col\u001b[0m\u001b[1;33m]\u001b[0m \u001b[1;33m=\u001b[0m \u001b[0mval\u001b[0m\u001b[1;33m\u001b[0m\u001b[1;33m\u001b[0m\u001b[0m\n\u001b[0m\u001b[0;32m      8\u001b[0m \u001b[1;33m\u001b[0m\u001b[0m\n\u001b[0;32m      9\u001b[0m \u001b[1;33m\u001b[0m\u001b[0m\n",
      "\u001b[1;31mNameError\u001b[0m: name 'full_table' is not defined"
     ]
    }
   ],
   "source": [
    "\n",
    "\n",
    "# new values\n",
    "feb_12_conf = {'Hubei' : 34874}\n",
    "\n",
    "# function to change value\n",
    "def change_val(date, ref_col, val_col, dtnry):\n",
    "    for key, val in dtnry.items():\n",
    "        full_table.loc[(full_table['Date']==date) & (full_table[ref_col]==key), val_col] = val\n",
    "\n",
    "\n",
    "# changing values\n",
    "change_val('2/12/20', 'Province/State', 'Confirmed', feb_12_conf)\n",
    "\n",
    "# checking values\n",
    "full_table[(full_table['Date']=='2/12/20') & (full_table['Province/State']=='Hubei')]"
   ]
  },
  {
   "cell_type": "markdown",
   "metadata": {},
   "source": [
    "## Saving full data"
   ]
  },
  {
   "cell_type": "code",
   "execution_count": null,
   "metadata": {},
   "outputs": [],
   "source": [
    "full_table.to_csv('complete_data.csv', index=False)"
   ]
  },
  {
   "cell_type": "markdown",
   "metadata": {},
   "source": [
    "## Country wise data"
   ]
  },
  {
   "cell_type": "code",
   "execution_count": null,
   "metadata": {},
   "outputs": [],
   "source": [
    "# china\n",
    "# =====\n",
    "\n",
    "china_province_wise = full_table[full_table['Country/Region']=='China']\n",
    "china_province_wise['Province/State'].unique()\n",
    "china_province_wise.to_csv('china_province_wise.csv', index=False)"
   ]
  },
  {
   "cell_type": "code",
   "execution_count": null,
   "metadata": {},
   "outputs": [],
   "source": [
    "# Australia\n",
    "# =========\n",
    "\n",
    "australia_state_wise = full_table[full_table['Country/Region']=='Australia']\n",
    "australia_state_wise['Province/State'].unique()\n",
    "australia_state_wise.to_csv('australia_state_wise.csv', index=False)"
   ]
  },
  {
   "cell_type": "code",
   "execution_count": null,
   "metadata": {},
   "outputs": [],
   "source": [
    "\n",
    "\n",
    "# Canada\n",
    "# ======\n",
    "\n",
    "canada_state_wise = full_table[full_table['Country/Region']=='Canada']\n",
    "canada_state_wise['Province/State'].unique()\n",
    "canada_state_wise.to_csv('canada_state_wise.csv', index=False)\n",
    "\n"
   ]
  },
  {
   "cell_type": "markdown",
   "metadata": {},
   "source": [
    "# Dataset"
   ]
  },
  {
   "cell_type": "code",
   "execution_count": null,
   "metadata": {
    "_kg_hide-input": true,
    "_kg_hide-output": false
   },
   "outputs": [],
   "source": [
    "# list files\n",
    "# !ls ../input/corona-virus-report"
   ]
  },
  {
   "cell_type": "code",
   "execution_count": null,
   "metadata": {
    "_kg_hide-input": true
   },
   "outputs": [],
   "source": [
    "# importing datasets\n",
    "full_table = pd.read_csv('complete_data.csv', \n",
    "                         parse_dates=['Date'])\n",
    "full_table.head()"
   ]
  },
  {
   "cell_type": "code",
   "execution_count": null,
   "metadata": {
    "_kg_hide-input": true
   },
   "outputs": [],
   "source": [
    "# dataframe info\n",
    "# full_table.info()"
   ]
  },
  {
   "cell_type": "code",
   "execution_count": null,
   "metadata": {
    "_kg_hide-input": true
   },
   "outputs": [],
   "source": [
    "# checking for missing value\n",
    "# full_table.isna().sum()"
   ]
  },
  {
   "cell_type": "markdown",
   "metadata": {},
   "source": [
    "# Preprocessing"
   ]
  },
  {
   "cell_type": "markdown",
   "metadata": {},
   "source": [
    "### Cleaning Data"
   ]
  },
  {
   "cell_type": "code",
   "execution_count": null,
   "metadata": {
    "_kg_hide-input": true,
    "_kg_hide-output": true
   },
   "outputs": [],
   "source": [
    "# cases \n",
    "cases = ['Confirmed', 'Deaths', 'Recovered', 'Active']\n",
    "\n",
    "# Active Case = confirmed - deaths - recovered\n",
    "full_table['Active'] = full_table['Confirmed'] - full_table['Deaths'] - full_table['Recovered']\n",
    "\n",
    "# replacing Mainland china with just China\n",
    "full_table['Country/Region'] = full_table['Country/Region'].replace('Mainland China', 'China')\n",
    "\n",
    "# filling missing values \n",
    "full_table[['Province/State']] = full_table[['Province/State']].fillna('')\n",
    "full_table[cases] = full_table[cases].fillna(0)"
   ]
  },
  {
   "cell_type": "markdown",
   "metadata": {},
   "source": [
    "### Derived Tables"
   ]
  },
  {
   "cell_type": "code",
   "execution_count": null,
   "metadata": {
    "_kg_hide-input": true
   },
   "outputs": [],
   "source": [
    "# cases in the ships\n",
    "ship = full_table[full_table['Province/State'].str.contains('Grand Princess')|full_table['Country/Region'].str.contains('Cruise Ship')]\n",
    "\n",
    "# china and the row\n",
    "china = full_table[full_table['Country/Region']=='China']\n",
    "row = full_table[full_table['Country/Region']!='China']\n",
    "\n",
    "# latest\n",
    "full_latest = full_table[full_table['Date'] == max(full_table['Date'])].reset_index()\n",
    "china_latest = full_latest[full_latest['Country/Region']=='China']\n",
    "row_latest = full_latest[full_latest['Country/Region']!='China']\n",
    "\n",
    "# latest condensed\n",
    "full_latest_grouped = full_latest.groupby('Country/Region')['Confirmed', 'Deaths', 'Recovered', 'Active'].sum().reset_index()\n",
    "china_latest_grouped = china_latest.groupby('Province/State')['Confirmed', 'Deaths', 'Recovered', 'Active'].sum().reset_index()\n",
    "row_latest_grouped = row_latest.groupby('Country/Region')['Confirmed', 'Deaths', 'Recovered', 'Active'].sum().reset_index()"
   ]
  },
  {
   "cell_type": "markdown",
   "metadata": {},
   "source": [
    "# Latest Data"
   ]
  },
  {
   "cell_type": "markdown",
   "metadata": {},
   "source": [
    "### Latest Complete Data"
   ]
  },
  {
   "cell_type": "code",
   "execution_count": null,
   "metadata": {
    "_kg_hide-input": true
   },
   "outputs": [],
   "source": [
    "temp = full_table.groupby(['Country/Region', 'Province/State'])['Confirmed', 'Deaths', 'Recovered', 'Active'].max()\n",
    "# temp.style.background_gradient(cmap='Reds')"
   ]
  },
  {
   "cell_type": "markdown",
   "metadata": {},
   "source": [
    "### Latest Condensed Data"
   ]
  },
  {
   "cell_type": "code",
   "execution_count": null,
   "metadata": {
    "_kg_hide-input": true
   },
   "outputs": [],
   "source": [
    "temp = full_table.groupby('Date')['Confirmed', 'Deaths', 'Recovered', 'Active'].sum().reset_index()\n",
    "temp = temp[temp['Date']==max(temp['Date'])].reset_index(drop=True)\n",
    "temp.style.background_gradient(cmap='Pastel1')"
   ]
  },
  {
   "cell_type": "code",
   "execution_count": null,
   "metadata": {
    "_kg_hide-input": true
   },
   "outputs": [],
   "source": [
    "tm = temp.melt(id_vars=\"Date\", value_vars=['Active', 'Deaths', 'Recovered'])\n",
    "fig = px.treemap(tm, path=[\"variable\"], values=\"value\", height=400, width=600,\n",
    "                 color_discrete_sequence=[rec, act, dth])\n",
    "fig.show()"
   ]
  },
  {
   "cell_type": "markdown",
   "metadata": {},
   "source": [
    "# Country wise Data"
   ]
  },
  {
   "cell_type": "markdown",
   "metadata": {},
   "source": [
    "### In each country"
   ]
  },
  {
   "cell_type": "code",
   "execution_count": null,
   "metadata": {
    "_kg_hide-input": true
   },
   "outputs": [],
   "source": [
    "temp_f = full_latest_grouped.sort_values(by='Confirmed', ascending=False)\n",
    "temp_f = temp_f.reset_index(drop=True)\n",
    "temp_f.style.background_gradient(cmap='Reds')"
   ]
  },
  {
   "cell_type": "markdown",
   "metadata": {},
   "source": [
    "### Countries with deaths reported"
   ]
  },
  {
   "cell_type": "code",
   "execution_count": null,
   "metadata": {
    "_kg_hide-input": true
   },
   "outputs": [],
   "source": [
    "temp_flg = temp_f[temp_f['Deaths']>0][['Country/Region', 'Deaths']]\n",
    "temp_flg.sort_values('Deaths', ascending=False).reset_index(drop=True).style.background_gradient(cmap='Reds')"
   ]
  },
  {
   "cell_type": "markdown",
   "metadata": {},
   "source": [
    "### Countries with no cases recovered"
   ]
  },
  {
   "cell_type": "code",
   "execution_count": null,
   "metadata": {
    "_kg_hide-input": true
   },
   "outputs": [],
   "source": [
    "temp = temp_f[temp_f['Recovered']==0][['Country/Region', 'Confirmed', 'Deaths', 'Recovered']]\n",
    "temp.reset_index(drop=True).style.background_gradient(cmap='Reds')"
   ]
  },
  {
   "cell_type": "markdown",
   "metadata": {},
   "source": [
    "### Countries with all cases died"
   ]
  },
  {
   "cell_type": "code",
   "execution_count": null,
   "metadata": {
    "_kg_hide-input": true
   },
   "outputs": [],
   "source": [
    "temp = row_latest_grouped[row_latest_grouped['Confirmed']==\n",
    "                          row_latest_grouped['Deaths']]\n",
    "temp = temp[['Country/Region', 'Confirmed', 'Deaths']]\n",
    "temp = temp.sort_values('Confirmed', ascending=False)\n",
    "temp = temp.reset_index(drop=True)\n",
    "temp.style.background_gradient(cmap='Reds')"
   ]
  },
  {
   "cell_type": "markdown",
   "metadata": {},
   "source": [
    "### Countries with all the cases recovered"
   ]
  },
  {
   "cell_type": "code",
   "execution_count": null,
   "metadata": {
    "_kg_hide-input": true
   },
   "outputs": [],
   "source": [
    "temp = row_latest_grouped[row_latest_grouped['Confirmed']==\n",
    "                          row_latest_grouped['Recovered']]\n",
    "temp = temp[['Country/Region', 'Confirmed', 'Recovered']]\n",
    "temp = temp.sort_values('Confirmed', ascending=False)\n",
    "temp = temp.reset_index(drop=True)\n",
    "temp.style.background_gradient(cmap='Greens')"
   ]
  },
  {
   "cell_type": "markdown",
   "metadata": {},
   "source": [
    "### Countries with no affected case anymore"
   ]
  },
  {
   "cell_type": "code",
   "execution_count": null,
   "metadata": {
    "_kg_hide-input": true
   },
   "outputs": [],
   "source": [
    "temp = row_latest_grouped[row_latest_grouped['Confirmed']==\n",
    "                          row_latest_grouped['Deaths']+\n",
    "                          row_latest_grouped['Recovered']]\n",
    "temp = temp[['Country/Region', 'Confirmed', 'Deaths', 'Recovered']]\n",
    "temp = temp.sort_values('Confirmed', ascending=False)\n",
    "temp = temp.reset_index(drop=True)\n",
    "temp.style.background_gradient(cmap='Greens')"
   ]
  },
  {
   "cell_type": "markdown",
   "metadata": {},
   "source": [
    "# Chinese province wise data"
   ]
  },
  {
   "cell_type": "markdown",
   "metadata": {},
   "source": [
    "### In each provinces"
   ]
  },
  {
   "cell_type": "code",
   "execution_count": null,
   "metadata": {
    "_kg_hide-input": true
   },
   "outputs": [],
   "source": [
    "temp_f = china_latest_grouped[['Province/State', 'Confirmed', 'Deaths', 'Recovered']]\n",
    "temp_f = temp_f.sort_values(by='Confirmed', ascending=False)\n",
    "temp_f = temp_f.reset_index(drop=True)\n",
    "temp_f.style.background_gradient(cmap='Pastel1_r')"
   ]
  },
  {
   "cell_type": "markdown",
   "metadata": {},
   "source": [
    "### Provinces with no cases recovered"
   ]
  },
  {
   "cell_type": "code",
   "execution_count": null,
   "metadata": {
    "_kg_hide-input": true
   },
   "outputs": [],
   "source": [
    "temp = china_latest_grouped[china_latest_grouped['Recovered']==0]\n",
    "temp = temp[['Province/State', 'Confirmed', 'Deaths', 'Recovered']]\n",
    "temp = temp.sort_values('Confirmed', ascending=False)\n",
    "temp = temp.reset_index(drop=True)\n",
    "temp.style.background_gradient(cmap='Pastel1_r')"
   ]
  },
  {
   "cell_type": "markdown",
   "metadata": {},
   "source": [
    "### Provinces with all cases died"
   ]
  },
  {
   "cell_type": "code",
   "execution_count": null,
   "metadata": {
    "_kg_hide-input": true
   },
   "outputs": [],
   "source": [
    "temp = china_latest_grouped[china_latest_grouped['Confirmed']==\n",
    "                          china_latest_grouped['Deaths']]\n",
    "temp = temp[['Province/State', 'Confirmed', 'Deaths', 'Recovered']]\n",
    "temp = temp.sort_values('Confirmed', ascending=False)\n",
    "temp = temp.reset_index(drop=True)\n",
    "temp.style.background_gradient(cmap='Greens')"
   ]
  },
  {
   "cell_type": "markdown",
   "metadata": {},
   "source": [
    "### Provinces with all the cases recovered"
   ]
  },
  {
   "cell_type": "code",
   "execution_count": null,
   "metadata": {
    "_kg_hide-input": true
   },
   "outputs": [],
   "source": [
    "temp = china_latest_grouped[china_latest_grouped['Confirmed']==\n",
    "                          china_latest_grouped['Recovered']]\n",
    "temp = temp[['Province/State', 'Confirmed','Deaths', 'Recovered']]\n",
    "temp = temp.sort_values('Confirmed', ascending=False)\n",
    "temp = temp.reset_index(drop=True)\n",
    "temp.style.background_gradient(cmap='Greens')"
   ]
  },
  {
   "cell_type": "markdown",
   "metadata": {},
   "source": [
    "### Provinces with no affected cases anymore"
   ]
  },
  {
   "cell_type": "code",
   "execution_count": null,
   "metadata": {
    "_kg_hide-input": true
   },
   "outputs": [],
   "source": [
    "temp = china_latest_grouped[china_latest_grouped['Confirmed']==\n",
    "                          china_latest_grouped['Deaths']+\n",
    "                          china_latest_grouped['Recovered']]\n",
    "temp = temp[['Province/State', 'Confirmed', 'Deaths', 'Recovered']]\n",
    "temp = temp.sort_values('Confirmed', ascending=False)\n",
    "temp = temp.reset_index(drop=True)\n",
    "temp.style.background_gradient(cmap='Greens')"
   ]
  },
  {
   "cell_type": "markdown",
   "metadata": {},
   "source": [
    "# Maps"
   ]
  },
  {
   "cell_type": "markdown",
   "metadata": {},
   "source": [
    "### Across the world"
   ]
  },
  {
   "cell_type": "code",
   "execution_count": null,
   "metadata": {
    "_kg_hide-input": true
   },
   "outputs": [],
   "source": [
    "# World wide\n",
    "\n",
    "m = folium.Map(location=[0, 0], tiles='cartodbpositron',\n",
    "               min_zoom=1, max_zoom=4, zoom_start=1)\n",
    "\n",
    "for i in range(0, len(full_latest)):\n",
    "    folium.Circle(\n",
    "        location=[full_latest.iloc[i]['Lat'], full_latest.iloc[i]['Long']],\n",
    "        color='crimson', \n",
    "        tooltip =   '<li><bold>Country : '+str(full_latest.iloc[i]['Country/Region'])+\n",
    "                    '<li><bold>Province : '+str(full_latest.iloc[i]['Province/State'])+\n",
    "                    '<li><bold>Confirmed : '+str(full_latest.iloc[i]['Confirmed'])+\n",
    "                    '<li><bold>Deaths : '+str(full_latest.iloc[i]['Deaths'])+\n",
    "                    '<li><bold>Recovered : '+str(full_latest.iloc[i]['Recovered']),\n",
    "        radius=int(full_latest.iloc[i]['Confirmed'])**1.1).add_to(m)\n",
    "m"
   ]
  },
  {
   "cell_type": "code",
   "execution_count": null,
   "metadata": {
    "_kg_hide-input": true
   },
   "outputs": [],
   "source": [
    "# Confirmed\n",
    "\n",
    "fig = px.choropleth(full_latest_grouped, locations=\"Country/Region\", \n",
    "                    locationmode='country names', color=\"Confirmed\", \n",
    "                    hover_name=\"Country/Region\", range_color=[1,7000], \n",
    "                    color_continuous_scale=\"aggrnyl\", \n",
    "                    title='Countries with Confirmed Cases')\n",
    "fig.update(layout_coloraxis_showscale=False)\n",
    "fig.show()"
   ]
  },
  {
   "cell_type": "code",
   "execution_count": null,
   "metadata": {
    "_kg_hide-input": true
   },
   "outputs": [],
   "source": [
    "# Deaths\n",
    "\n",
    "fig = px.choropleth(full_latest_grouped[full_latest_grouped['Deaths']>0], \n",
    "                    locations=\"Country/Region\", locationmode='country names',\n",
    "                    color=\"Deaths\", hover_name=\"Country/Region\", \n",
    "                    range_color=[1,50], color_continuous_scale=\"agsunset\",\n",
    "                    title='Countries with Deaths Reported')\n",
    "fig.update(layout_coloraxis_showscale=False)\n",
    "fig.show()"
   ]
  },
  {
   "cell_type": "code",
   "execution_count": null,
   "metadata": {
    "_kg_hide-input": true
   },
   "outputs": [],
   "source": [
    "# # China\n",
    "\n",
    "# clg = china_latest_grouped.iloc[:, :].copy()\n",
    "\n",
    "# name = {'Inner Mongolia': 'Inner Mongol',\n",
    "#         'Tibet': 'Xizang'}\n",
    "# clg.loc[:, 'Province/State'] = clg.loc[: 'Province/State'].replace(name)\n",
    "\n",
    "# with urlopen('https://raw.githubusercontent.com/yg2619/Choropleth-Maps-in-Python-Using-Plotly/master/china_geojson.json') as file:\n",
    "#     china_json = json.load(file)\n",
    "\n",
    "# fig = go.Figure(go.Choroplethmapbox(geojson=china_json, locations=clg['Province/State'], \n",
    "#                                     z=china_latest_grouped['Confirmed'], colorscale='Viridis', zmin=0, zmax=1000,\n",
    "#                                     marker_opacity=0.8, marker_line_width=0))\n",
    "# fig.update_layout(mapbox_style=\"carto-positron\",\n",
    "#                   mapbox_zoom=3, mapbox_center = {\"lat\": 35.8617, \"lon\": 104.1954})\n",
    "# fig.update_layout(margin={\"r\":0,\"t\":0,\"l\":0,\"b\":0})\n",
    "# fig.update_layout(title='Confirmed Cases in Chinese Provincec')\n",
    "# fig.show()\n",
    "\n",
    "# -----------------------------------------------------------------------------------------------------------------\n",
    "\n",
    "# # US\n",
    "\n",
    "# temp = full_latest.loc[full_latest['Country/Region']=='US', ['Province/State', 'Confirmed']]\n",
    "# temp['State'] = temp.loc[:, 'Province/State'].str.split(', ').str[-1]\n",
    "# temp = temp.groupby('State')['Confirmed'].sum().reset_index()\n",
    "\n",
    "# df = pd.read_csv('https://raw.githubusercontent.com/plotly/datasets/master/2011_us_ag_exports.csv')\n",
    "\n",
    "# fig = go.Figure(go.Choropleth(locations=temp['State'], z = temp['Confirmed'].astype(float), \n",
    "#                               locationmode = 'USA-states', colorscale = 'Viridis'))\n",
    "# fig.update_layout(geo_scope='usa', title='Confirmed Cases in US States')\n",
    "# fig.show()"
   ]
  },
  {
   "cell_type": "code",
   "execution_count": null,
   "metadata": {},
   "outputs": [],
   "source": [
    "formated_gdf = full_table.groupby(['Date', 'Country/Region'])['Confirmed', 'Deaths', 'Recovered'].max()\n",
    "formated_gdf = formated_gdf.reset_index()\n",
    "formated_gdf['Date'] = pd.to_datetime(formated_gdf['Date'])\n",
    "formated_gdf['Date'] = formated_gdf['Date'].dt.strftime('%m/%d/%Y')\n",
    "formated_gdf['size'] = formated_gdf['Confirmed'].pow(0.3)\n",
    "\n",
    "fig = px.scatter_geo(formated_gdf, locations=\"Country/Region\", locationmode='country names', \n",
    "                     color=\"Confirmed\", size='size', hover_name=\"Country/Region\", \n",
    "                     range_color= [0, max(formated_gdf['Confirmed'])+2], \n",
    "                     projection=\"natural earth\", animation_frame=\"Date\", \n",
    "                     title='Spread over time')\n",
    "fig.update(layout_coloraxis_showscale=False)\n",
    "fig.show()"
   ]
  },
  {
   "cell_type": "markdown",
   "metadata": {},
   "source": [
    "# Ships"
   ]
  },
  {
   "cell_type": "markdown",
   "metadata": {},
   "source": [
    "### Diamond Princess cruise ship\n",
    "\n",
    "* On *20 January 2020*, an 80-year-old passenger from Hong Kong embarked in **Yokohama**, later tested positive for COVID-19 on *1 February*.    \n",
    "* On *4 February*, the ship was in Japanese waters when **10 passengers were diagnosed with COVID-19**. \n",
    "* The **ship was quarantined** on *4 February 2020* in the **Port of Yokohama in Japan**. \n",
    ">* The infections included at least 138 from India (including 132 crew and 6 passengers), 35 Filipinos, \n",
    ">* 32 Canadians, 24 Australians, 13 Americans, 4 Indonesians, 4 Malaysians,and 2 Britons. \n",
    "\n",
    "* Home countries arranged to evacuate their citizens and quarantine them further in their own countries.\n",
    "* As of *5 March*, **at least 696** out of the 3,711 passengers and crew had **tested positive** for the virus.\n",
    "* As of *7 March*, there had been **at least 7 deaths**\n",
    "\n",
    "### Grand Princess Ship\n",
    "\n",
    "* Another **Grand-class ship owned by Princess Cruises**, also experienced an outbreak of the disease\n",
    "* **Two of its passengers** fell ill after a cruise **from San Francisco to Mexico** in February 2020, and one of them died"
   ]
  },
  {
   "cell_type": "code",
   "execution_count": null,
   "metadata": {
    "_kg_hide-input": true
   },
   "outputs": [],
   "source": [
    "# Latest cases from the ships\n",
    "temp = ship[ship['Date']==max(ship['Date'])]\n",
    "temp = temp[['Province/State', 'Confirmed', 'Deaths', 'Recovered']].reset_index(drop=True)\n",
    "temp.style.background_gradient(cmap='Pastel1_r')"
   ]
  },
  {
   "cell_type": "code",
   "execution_count": null,
   "metadata": {
    "_kg_hide-input": true
   },
   "outputs": [],
   "source": [
    "temp = ship[ship['Date']==max(ship['Date'])]\n",
    "\n",
    "m = folium.Map(location=[0, 0], tiles='cartodbpositron',\n",
    "               min_zoom=1, max_zoom=4, zoom_start=1)\n",
    "\n",
    "for i in range(0, len(temp)):\n",
    "    folium.Circle(\n",
    "        location=[temp.iloc[i]['Lat'], temp.iloc[i]['Long']],\n",
    "        color='crimson', \n",
    "        tooltip =   '<li><bold>Country : '+str(temp.iloc[i]['Country/Region'])+\n",
    "                    '<li><bold>Province : '+str(temp.iloc[i]['Province/State'])+\n",
    "                    '<li><bold>Confirmed : '+str(temp.iloc[i]['Confirmed'])+\n",
    "                    '<li><bold>Deaths : '+str(temp.iloc[i]['Deaths'])+\n",
    "                    '<li><bold>Recovered : '+str(temp.iloc[i]['Recovered']),\n",
    "        radius=100000).add_to(m)\n",
    "m"
   ]
  },
  {
   "cell_type": "markdown",
   "metadata": {},
   "source": [
    "# Cases over the time"
   ]
  },
  {
   "cell_type": "code",
   "execution_count": null,
   "metadata": {
    "_kg_hide-input": true
   },
   "outputs": [],
   "source": [
    "temp = full_table.groupby('Date')['Recovered', 'Deaths', 'Active'].sum().reset_index()\n",
    "temp = temp.melt(id_vars=\"Date\", value_vars=['Recovered', 'Deaths', 'Active'],\n",
    "                 var_name='Case', value_name='Count')\n",
    "temp.head()\n",
    "\n",
    "fig = px.area(temp, x=\"Date\", y=\"Count\", color='Case',\n",
    "             title='Cases over time', color_discrete_sequence = [rec, dth, act])\n",
    "fig.show()"
   ]
  },
  {
   "cell_type": "markdown",
   "metadata": {},
   "source": [
    "# Recovery and mortality rate over time"
   ]
  },
  {
   "cell_type": "code",
   "execution_count": null,
   "metadata": {
    "_kg_hide-input": true
   },
   "outputs": [],
   "source": [
    "temp = full_table.groupby('Date').sum().reset_index()\n",
    "\n",
    "# adding two more columns\n",
    "temp['No. of Deaths to 100 Confirmed Cases'] = round(temp['Deaths']/temp['Confirmed'], 3)*100\n",
    "temp['No. of Recovered to 100 Confirmed Cases'] = round(temp['Recovered']/temp['Confirmed'], 3)*100\n",
    "# temp['No. of Recovered to 1 Death Case'] = round(temp['Recovered']/temp['Deaths'], 3)\n",
    "\n",
    "temp = temp.melt(id_vars='Date', value_vars=['No. of Deaths to 100 Confirmed Cases', 'No. of Recovered to 100 Confirmed Cases'], \n",
    "                 var_name='Ratio', value_name='Value')\n",
    "\n",
    "fig = px.line(temp, x=\"Date\", y=\"Value\", color='Ratio', log_y=True, \n",
    "              title='Recovery and Mortality Rate Over The Time', color_discrete_sequence=[dth, rec])\n",
    "fig.show()"
   ]
  },
  {
   "cell_type": "markdown",
   "metadata": {},
   "source": [
    "# No. of places to which COVID-19 spread"
   ]
  },
  {
   "cell_type": "code",
   "execution_count": null,
   "metadata": {
    "_kg_hide-input": true
   },
   "outputs": [],
   "source": [
    "c_spread = china[china['Confirmed']!=0].groupby('Date')['Province/State'].unique().apply(len)\n",
    "c_spread = pd.DataFrame(c_spread).reset_index()\n",
    "\n",
    "fig = px.line(c_spread, x='Date', y='Province/State', text='Province/State',\n",
    "              title='Number of Provinces/States/Regions of China to which COVID-19 spread over the time',\n",
    "             color_discrete_sequence=[cnf,dth, rec])\n",
    "fig.update_traces(textposition='top center')\n",
    "fig.show()\n",
    "\n",
    "# ------------------------------------------------------------------------------------------\n",
    "\n",
    "spread = full_table[full_table['Confirmed']!=0].groupby('Date')['Country/Region'].unique().apply(len)\n",
    "spread = pd.DataFrame(spread).reset_index()\n",
    "\n",
    "fig = px.line(spread, x='Date', y='Country/Region', text='Country/Region',\n",
    "              title='Number of Countries/Regions to which COVID-19 spread over the time',\n",
    "             color_discrete_sequence=[cnf,dth, rec])\n",
    "fig.update_traces(textposition='top center')\n",
    "fig.show()"
   ]
  },
  {
   "cell_type": "markdown",
   "metadata": {},
   "source": [
    "# Top 20 Countries"
   ]
  },
  {
   "cell_type": "code",
   "execution_count": null,
   "metadata": {
    "_kg_hide-input": true,
    "_kg_hide-output": true
   },
   "outputs": [],
   "source": [
    "flg = full_latest_grouped\n",
    "flg.head()"
   ]
  },
  {
   "cell_type": "code",
   "execution_count": null,
   "metadata": {
    "_kg_hide-input": true
   },
   "outputs": [],
   "source": [
    "fig = px.bar(flg.sort_values('Confirmed', ascending=False).head(20).sort_values('Confirmed', ascending=True), \n",
    "             x=\"Confirmed\", y=\"Country/Region\", title='Confirmed Cases', text='Confirmed', orientation='h', \n",
    "             width=700, height=700, range_x = [0, max(flg['Confirmed'])+10000])\n",
    "fig.update_traces(marker_color='#46cdcf', opacity=0.8, textposition='outside')\n",
    "fig.show()"
   ]
  },
  {
   "cell_type": "code",
   "execution_count": null,
   "metadata": {
    "_kg_hide-input": true
   },
   "outputs": [],
   "source": [
    "fig = px.bar(flg.sort_values('Deaths', ascending=False).head(20).sort_values('Deaths', ascending=True), \n",
    "             x=\"Deaths\", y=\"Country/Region\", title='Deaths', text='Deaths', orientation='h', \n",
    "             width=700, height=700, range_x = [0, max(flg['Deaths'])+500])\n",
    "fig.update_traces(marker_color=dth, opacity=0.6, textposition='outside')\n",
    "fig.show()"
   ]
  },
  {
   "cell_type": "code",
   "execution_count": null,
   "metadata": {
    "_kg_hide-input": true
   },
   "outputs": [],
   "source": [
    "fig = px.bar(flg.sort_values('Recovered', ascending=False).head(20).sort_values('Recovered', ascending=True), \n",
    "             x=\"Recovered\", y=\"Country/Region\", title='Recovered', text='Recovered', orientation='h', \n",
    "             width=700, height=700, range_x = [0, max(flg['Recovered'])+10000])\n",
    "fig.update_traces(marker_color=rec, opacity=0.6, textposition='outside')\n",
    "fig.show()"
   ]
  },
  {
   "cell_type": "code",
   "execution_count": null,
   "metadata": {
    "_kg_hide-input": true
   },
   "outputs": [],
   "source": [
    "fig = px.bar(flg.sort_values('Active', ascending=False).head(20).sort_values('Active', ascending=True), \n",
    "             x=\"Active\", y=\"Country/Region\", title='Active', text='Active', orientation='h', \n",
    "             width=700, height=700, range_x = [0, max(flg['Active'])+3000])\n",
    "fig.update_traces(marker_color='#f0134d', opacity=0.6, textposition='outside')\n",
    "fig.show()"
   ]
  },
  {
   "cell_type": "code",
   "execution_count": null,
   "metadata": {
    "_kg_hide-input": true
   },
   "outputs": [],
   "source": [
    "# (Only countries with more than 100 case are considered)\n",
    "\n",
    "flg['Mortality Rate'] = round((flg['Deaths']/flg['Confirmed'])*100, 2)\n",
    "temp = flg[flg['Confirmed']>100]\n",
    "temp = temp.sort_values('Mortality Rate', ascending=False)\n",
    "\n",
    "fig = px.bar(temp.sort_values('Mortality Rate', ascending=False).head(15).sort_values('Mortality Rate', ascending=True), \n",
    "             x=\"Mortality Rate\", y=\"Country/Region\", text='Mortality Rate', orientation='h', \n",
    "             width=700, height=600, range_x = [0, 10], title='No. of Deaths Per 100 Confirmed Case')\n",
    "fig.update_traces(marker_color='#00a8cc', opacity=0.6, textposition='outside')\n",
    "fig.show()"
   ]
  },
  {
   "cell_type": "code",
   "execution_count": null,
   "metadata": {
    "_kg_hide-input": true
   },
   "outputs": [],
   "source": [
    "# load population dataset\n",
    "pop_clean_data = pd.read_csv(\"../input/world-population-19602018/population_clean.csv\")\n",
    "\n",
    "# select only the latest data\n",
    "pop = pop_clean_data.loc[:, ['Country Name', '2018']]\n",
    "\n",
    "# substitute for missing values\n",
    "cols = ['French Guiana', 'Martinique', 'Palestine' , 'Republic of Ireland', 'Saint Barthelemy', 'Taiwan', 'Vatican City']\n",
    "pops = [290691, 376480, 4750000, 4920455, 7122, 23476640, 1000]\n",
    "for c, p in zip(cols, pops):\n",
    "    temp.loc[temp['Country/Region']== c, 'Population'] = p\n",
    "\n",
    "# replace country names \n",
    "name = {\n",
    "    'Egypt, Arab Rep.': 'Egypt',\n",
    "    'Hong Kong SAR, China': 'Hong Kong',\n",
    "    'Iran, Islamic Rep.': 'Iran (Islamic Republic of)',\n",
    "    'Macao SAR, China': 'Macau',\n",
    "    'Hong Kong SAR': 'Hong Kong',\n",
    "    'Russian Federation': 'Russia',\n",
    "    'Slovak Republic': 'Slovakia',\n",
    "    'Korea, Rep.': 'Republic of Korea',\n",
    "    'United Kingdom': 'UK',\n",
    "    'United States': 'US' }\n",
    "pop.loc[:, 'Country Name'] = pop.loc[: 'Country Name'].replace(name)\n",
    "\n",
    "# merge dataframes\n",
    "temp = pd.merge(full_latest_grouped, pop, how='left', right_on='Country Name', left_on='Country/Region')\n",
    "# print(temp[temp['Country Name'].isna()])\n",
    "\n",
    "temp = temp[['Country/Region', 'Confirmed', 'Deaths', 'Recovered', 'Active', '2018']]\n",
    "temp.columns = ['Country/Region', 'Confirmed', 'Deaths', 'Recovered', 'Active', 'Population']\n",
    "    \n",
    "# calculate Confirmed/Population\n",
    "temp['Confirmed Per Million People'] = round(temp['Confirmed']/temp['Population']*1000000, 2)\n",
    "\n",
    "# countries with population greater that 1 million only\n",
    "temp = temp[temp['Population']>1000000].sort_values('Confirmed Per Million People', ascending=False).reset_index(drop=True)\n",
    "# temp.head()\n",
    "\n",
    "fig = px.bar(temp.head(20).sort_values('Confirmed Per Million People', ascending=True), \n",
    "             x='Confirmed Per Million People', y='Country/Region', orientation='h', \n",
    "             width=700, height=700, text='Confirmed Per Million People', title='Confirmed cases Per Million People',\n",
    "             range_x = [0, max(temp['Confirmed Per Million People'])+40])\n",
    "fig.update_traces(textposition='outside', marker_color='#2a7886', opacity=0.7)\n",
    "fig.update_layout(uniformtext_minsize=8, uniformtext_mode='hide')\n",
    "fig.show()"
   ]
  },
  {
   "cell_type": "markdown",
   "metadata": {},
   "source": [
    "# Date vs"
   ]
  },
  {
   "cell_type": "code",
   "execution_count": null,
   "metadata": {
    "_kg_hide-input": true
   },
   "outputs": [],
   "source": [
    "temp = full_table.groupby(['Country/Region', 'Date'])['Confirmed', 'Deaths', 'Recovered'].sum()\n",
    "temp = temp.reset_index()\n",
    "\n",
    "fig = px.bar(temp, x=\"Date\", y=\"Confirmed\", color='Country/Region', orientation='v', height=600,\n",
    "             title='Confirmed', color_discrete_sequence = px.colors.cyclical.mygbm)\n",
    "fig.show()"
   ]
  },
  {
   "cell_type": "code",
   "execution_count": null,
   "metadata": {
    "_kg_hide-input": true
   },
   "outputs": [],
   "source": [
    "fig = px.bar(temp, x=\"Date\", y=\"Deaths\", color='Country/Region', orientation='v', height=600,\n",
    "             title='Deaths', color_discrete_sequence = px.colors.cyclical.mygbm)\n",
    "fig.show()"
   ]
  },
  {
   "cell_type": "code",
   "execution_count": null,
   "metadata": {
    "_kg_hide-input": true
   },
   "outputs": [],
   "source": [
    "temp = full_table.groupby(['Country/Region', 'Date', ])['Confirmed', 'Deaths', 'Recovered']\n",
    "temp = temp.sum().diff().reset_index()\n",
    "\n",
    "mask = temp['Country/Region'] != temp['Country/Region'].shift(1)\n",
    "\n",
    "temp.loc[mask, 'Confirmed'] = np.nan\n",
    "temp.loc[mask, 'Deaths'] = np.nan\n",
    "temp.loc[mask, 'Recovered'] = np.nan\n",
    "\n",
    "fig = px.bar(temp, x=\"Date\", y=\"Confirmed\", color='Country/Region',title='New cases')\n",
    "fig.show()"
   ]
  },
  {
   "cell_type": "markdown",
   "metadata": {},
   "source": [
    "https://app.flourish.studio/visualisation/1571387/edit\n",
    "\n"
   ]
  },
  {
   "cell_type": "code",
   "execution_count": null,
   "metadata": {},
   "outputs": [],
   "source": [
    "HTML('''<div class=\"flourish-embed flourish-bar-chart-race\" data-src=\"visualisation/1571387\"><script src=\"https://public.flourish.studio/resources/embed.js\"></script></div>''')"
   ]
  },
  {
   "cell_type": "code",
   "execution_count": null,
   "metadata": {
    "_kg_hide-input": true
   },
   "outputs": [],
   "source": [
    "# temp = full_table.groupby(['Date', 'Country/Region'])['Confirmed'].sum().reset_index()\n",
    "# temp = temp.sort_values('Confirmed').reset_index(drop=True).head(20)\n",
    "# # temp['Date'] = temp['Date'].dt.strftime('%Y-%m-%d')\n",
    "# temp = temp.sort_values(by='Date')\n",
    "# temp['Date'] = temp['Date'].apply(lambda x: x.date()).apply(str)\n",
    "# temp.head()\n",
    "\n",
    "# fig = px.bar(temp, y='Country/Region', x='Confirmed', color='Country/Region', orientation='h',  \n",
    "#              title='Over time', animation_frame='Date', height=1000, log_x=True)\n",
    "# # fig.update_traces(textposition='outside')\n",
    "# # fig.update_layout(uniformtext_minsize=8, uniformtext_mode='hide')\n",
    "# # fig.update_layout(yaxis={'categoryorder':'array', \n",
    "# #                          'categoryarray':['Hubei','Other Chinese Provinces','Rest of the World']})\n",
    "# fig.show()"
   ]
  },
  {
   "cell_type": "code",
   "execution_count": null,
   "metadata": {
    "_kg_hide-input": true
   },
   "outputs": [],
   "source": [
    "temp = full_table.groupby(['Date', 'Country/Region'])['Confirmed'].sum().reset_index().sort_values('Confirmed', ascending=False)\n",
    "\n",
    "px.line(temp, x=\"Date\", y=\"Confirmed\", color='Country/Region', title='Cases Spread', height=600)"
   ]
  },
  {
   "cell_type": "code",
   "execution_count": null,
   "metadata": {},
   "outputs": [],
   "source": [
    "fig = px.scatter(full_latest_grouped.sort_values('Deaths', ascending=False).iloc[:20, :], \n",
    "                 x='Confirmed', y='Deaths', color='Country/Region',\n",
    "                 text='Country/Region', log_x=True, log_y=True, title='Deaths vs Confirmed')\n",
    "fig.update_traces(textposition='top center')\n",
    "fig.show()"
   ]
  },
  {
   "cell_type": "markdown",
   "metadata": {},
   "source": [
    "# Composition of Cases"
   ]
  },
  {
   "cell_type": "code",
   "execution_count": null,
   "metadata": {
    "_kg_hide-input": true
   },
   "outputs": [],
   "source": [
    "fig = px.treemap(full_latest.sort_values(by='Confirmed', ascending=False).reset_index(drop=True), \n",
    "                 path=[\"Country/Region\", \"Province/State\"], values=\"Confirmed\", height=700,\n",
    "                 title='Number of Confirmed Cases',\n",
    "                 color_discrete_sequence = px.colors.qualitative.Prism)\n",
    "fig.data[0].textinfo = 'label+text+value'\n",
    "fig.show()\n",
    "\n",
    "fig = px.treemap(full_latest.sort_values(by='Deaths', ascending=False).reset_index(drop=True), \n",
    "                 path=[\"Country/Region\", \"Province/State\"], values=\"Deaths\", height=700,\n",
    "                 title='Number of Deaths reported',\n",
    "                 color_discrete_sequence = px.colors.qualitative.Prism)\n",
    "fig.data[0].textinfo = 'label+text+value'\n",
    "fig.show()"
   ]
  },
  {
   "cell_type": "markdown",
   "metadata": {},
   "source": [
    "# Epidemic Span"
   ]
  },
  {
   "cell_type": "markdown",
   "metadata": {},
   "source": [
    "Note : In the graph, last day is shown as one day after the last time a new confirmed cases reported in the Country / Region"
   ]
  },
  {
   "cell_type": "code",
   "execution_count": null,
   "metadata": {
    "_kg_hide-input": true
   },
   "outputs": [],
   "source": [
    "# first date\n",
    "# ----------\n",
    "first_date = full_table[full_table['Confirmed']>0]\n",
    "first_date = first_date.groupby('Country/Region')['Date'].agg(['min']).reset_index()\n",
    "# first_date.head()\n",
    "from datetime import timedelta  \n",
    "# last date\n",
    "# ---------\n",
    "last_date = full_table.groupby(['Country/Region', 'Date', ])['Confirmed', 'Deaths', 'Recovered']\n",
    "last_date = last_date.sum().diff().reset_index()\n",
    "\n",
    "mask = last_date['Country/Region'] != last_date['Country/Region'].shift(1)\n",
    "last_date.loc[mask, 'Confirmed'] = np.nan\n",
    "last_date.loc[mask, 'Deaths'] = np.nan\n",
    "last_date.loc[mask, 'Recovered'] = np.nan\n",
    "\n",
    "last_date = last_date[last_date['Confirmed']>0]\n",
    "last_date = last_date.groupby('Country/Region')['Date'].agg(['max']).reset_index()\n",
    "# last_date.head()\n",
    "\n",
    "# first_last\n",
    "# ----------\n",
    "first_last = pd.concat([first_date, last_date[['max']]], axis=1)\n",
    "\n",
    "# added 1 more day, which will show the next day as the day on which last case appeared\n",
    "first_last['max'] = first_last['max'] + timedelta(days=1)\n",
    "\n",
    "# no. of days\n",
    "first_last['Days'] = first_last['max'] - first_last['min']\n",
    "\n",
    "# task column as country\n",
    "first_last['Task'] = first_last['Country/Region']\n",
    "\n",
    "# rename columns\n",
    "first_last.columns = ['Country/Region', 'Start', 'Finish', 'Days', 'Task']\n",
    "\n",
    "# sort by no. of days\n",
    "first_last = first_last.sort_values('Days')\n",
    "# first_last.head()\n",
    "\n",
    "# visualization\n",
    "# --------------\n",
    "\n",
    "# produce random colors\n",
    "clr = [\"#\"+''.join([random.choice('0123456789ABC') for j in range(6)]) for i in range(len(first_last))]\n",
    "\n",
    "#plot\n",
    "fig = ff.create_gantt(first_last, index_col='Country/Region', colors=clr, show_colorbar=False, \n",
    "                      bar_width=0.2, showgrid_x=True, showgrid_y=True, height=1600, \n",
    "                      title=('Gantt Chart'))\n",
    "fig.show()"
   ]
  },
  {
   "cell_type": "markdown",
   "metadata": {},
   "source": [
    "# China vs ROW"
   ]
  },
  {
   "cell_type": "code",
   "execution_count": null,
   "metadata": {
    "_kg_hide-input": true
   },
   "outputs": [],
   "source": [
    "# In China\n",
    "temp = china.groupby('Date')['Confirmed', 'Deaths', 'Recovered'].sum().diff()\n",
    "temp = temp.reset_index()\n",
    "temp = temp.melt(id_vars=\"Date\", \n",
    "                 value_vars=['Confirmed', 'Deaths', 'Recovered'])\n",
    "\n",
    "fig = px.bar(temp, x=\"Date\", y=\"value\", color='variable', \n",
    "             title='In China',\n",
    "             color_discrete_sequence=[cnf, dth, rec])\n",
    "fig.update_layout(barmode='group')\n",
    "fig.show()\n",
    "\n",
    "#-----------------------------------------------------------------------------\n",
    "\n",
    "# ROW\n",
    "temp = row.groupby('Date')['Confirmed', 'Deaths', 'Recovered'].sum().diff()\n",
    "temp = temp.reset_index()\n",
    "temp = temp.melt(id_vars=\"Date\", \n",
    "                 value_vars=['Confirmed', 'Deaths', 'Recovered'])\n",
    "\n",
    "fig = px.bar(temp, x=\"Date\", y=\"value\", color='variable', \n",
    "             title='Outside China',\n",
    "             color_discrete_sequence=[cnf, dth, rec])\n",
    "fig.update_layout(barmode='group')\n",
    "fig.show()"
   ]
  },
  {
   "cell_type": "code",
   "execution_count": null,
   "metadata": {
    "_kg_hide-input": true
   },
   "outputs": [],
   "source": [
    "def from_china_or_not(row):\n",
    "    if row['Country/Region']=='China':\n",
    "        return 'From China'\n",
    "    else:\n",
    "        return 'Outside China'\n",
    "    \n",
    "temp = full_table.copy()\n",
    "temp['Region'] = temp.apply(from_china_or_not, axis=1)\n",
    "temp = temp.groupby(['Region', 'Date'])['Confirmed', 'Deaths', 'Recovered']\n",
    "temp = temp.sum().diff().reset_index()\n",
    "mask = temp['Region'] != temp['Region'].shift(1)\n",
    "temp.loc[mask, 'Confirmed'] = np.nan\n",
    "temp.loc[mask, 'Deaths'] = np.nan\n",
    "temp.loc[mask, 'Recovered'] = np.nan\n",
    "\n",
    "fig = px.bar(temp, x='Date', y='Confirmed', color='Region', barmode='group', \n",
    "             text='Confirmed', title='Confirmed', color_discrete_sequence= [cnf, dth, rec])\n",
    "fig.update_traces(textposition='outside')\n",
    "fig.show()\n",
    "\n",
    "fig = px.bar(temp, x='Date', y='Deaths', color='Region', barmode='group', \n",
    "             text='Confirmed', title='Deaths', color_discrete_sequence= [cnf, dth, rec])\n",
    "fig.update_traces(textposition='outside')\n",
    "fig.update_traces(textangle=-90)\n",
    "fig.show()"
   ]
  },
  {
   "cell_type": "code",
   "execution_count": null,
   "metadata": {
    "_kg_hide-input": true
   },
   "outputs": [],
   "source": [
    "# fig = px.bar(temp[temp['Country/Region']!='China'], x=\"Date\", y=\"Confirmed\", color='Country/Region',\n",
    "#              title='Number of new cases outside China everyday')\n",
    "# fig.show()\n",
    "\n",
    "# fig = px.bar(temp, x=\"Date\", y=\"Deaths\", color='Country/Region',\n",
    "#              title='Number of new death case reported outside China everyday')\n",
    "# fig.show()\n",
    "\n",
    "# fig = px.bar(temp[temp['Country/Region']!='China'], x=\"Date\", y=\"Deaths\", color='Country/Region',\n",
    "#              title='Number of new death case reported outside China everyday')\n",
    "# fig.show()"
   ]
  },
  {
   "cell_type": "code",
   "execution_count": null,
   "metadata": {
    "_kg_hide-input": true
   },
   "outputs": [],
   "source": [
    "gdf = full_table.groupby(['Date', 'Country/Region'])['Confirmed', 'Deaths', 'Recovered'].max()\n",
    "gdf = gdf.reset_index()\n",
    "\n",
    "temp = gdf[gdf['Country/Region']=='China'].reset_index()\n",
    "temp = temp.melt(id_vars='Date', value_vars=['Confirmed', 'Deaths', 'Recovered'],\n",
    "                var_name='Case', value_name='Count')\n",
    "fig = px.bar(temp, x=\"Date\", y=\"Count\", color='Case', facet_col=\"Case\",\n",
    "            title='China', color_discrete_sequence=[cnf, dth, rec])\n",
    "fig.show()\n",
    "\n",
    "temp = gdf[gdf['Country/Region']!='China'].groupby('Date').sum().reset_index()\n",
    "temp = temp.melt(id_vars='Date', value_vars=['Confirmed', 'Deaths', 'Recovered'],\n",
    "                var_name='Case', value_name='Count')\n",
    "fig = px.bar(temp, x=\"Date\", y=\"Count\", color='Case', facet_col=\"Case\",\n",
    "             title='ROW', color_discrete_sequence=[cnf, dth, rec])\n",
    "fig.show()"
   ]
  },
  {
   "cell_type": "markdown",
   "metadata": {},
   "source": [
    "# Hubei - China - World"
   ]
  },
  {
   "cell_type": "code",
   "execution_count": null,
   "metadata": {
    "_kg_hide-input": true
   },
   "outputs": [],
   "source": [
    "def location(row):\n",
    "    if row['Country/Region']=='China':\n",
    "        if row['Province/State']=='Hubei':\n",
    "            return 'Hubei'\n",
    "        else:\n",
    "            return 'Other Chinese Provinces'\n",
    "    else:\n",
    "        return 'Rest of the World'\n",
    "\n",
    "temp = full_table.copy()\n",
    "temp['Region'] = temp.apply(location, axis=1)\n",
    "temp['Date'] = temp['Date'].dt.strftime('%Y-%m-%d')\n",
    "temp = temp.groupby(['Region', 'Date'])['Confirmed', 'Deaths', 'Recovered'].sum().reset_index()\n",
    "temp = temp.melt(id_vars=['Region', 'Date'], value_vars=['Confirmed', 'Deaths', 'Recovered'], \n",
    "                 var_name='Case', value_name='Count').sort_values('Count')\n",
    "# temp = temp.sort_values(['Date', 'Region', 'Case']).reset_index()\n",
    "temp.head()\n",
    "\n",
    "fig = px.bar(temp, y='Region', x='Count', color='Case', barmode='group', orientation='h',\n",
    "             text='Count', title='Hubei - China - World', animation_frame='Date',\n",
    "             color_discrete_sequence= [dth, rec, cnf], range_x=[0, 70000])\n",
    "fig.update_traces(textposition='outside')\n",
    "# fig.update_layout(uniformtext_minsize=8, uniformtext_mode='hide')\n",
    "# fig.update_layout(yaxis={'categoryorder':'array', \n",
    "#                          'categoryarray':['Hubei','Other Chinese Provinces','Rest of the World']})\n",
    "fig.show()\n",
    "\n",
    "temp = full_latest.copy()\n",
    "temp['Region'] = temp.apply(location, axis=1)\n",
    "temp = temp.groupby('Region')['Confirmed', 'Deaths', 'Recovered'].sum().reset_index()\n",
    "temp = temp.melt(id_vars='Region', value_vars=['Confirmed', 'Deaths', 'Recovered'], \n",
    "                 var_name='Case', value_name='Count').sort_values('Count')\n",
    "temp.head()\n",
    "\n",
    "fig = px.bar(temp, y='Region', x='Count', color='Case', barmode='group', orientation='h',\n",
    "             text='Count', title='Hubei - China - World', \n",
    "             color_discrete_sequence= [dth, rec, cnf])\n",
    "fig.update_traces(textposition='outside')\n",
    "fig.update_layout(uniformtext_minsize=8, uniformtext_mode='hide')\n",
    "fig.show()"
   ]
  },
  {
   "cell_type": "markdown",
   "metadata": {},
   "source": [
    "# Proportion of Cases"
   ]
  },
  {
   "cell_type": "code",
   "execution_count": null,
   "metadata": {
    "_kg_hide-input": true
   },
   "outputs": [],
   "source": [
    "rl = row_latest.groupby('Country/Region')['Confirmed', 'Deaths', 'Recovered'].sum()\n",
    "rl = rl.reset_index().sort_values(by='Confirmed', ascending=False).reset_index(drop=True)\n",
    "rl.head().style.background_gradient(cmap='rainbow')\n",
    "\n",
    "ncl = rl.copy()\n",
    "ncl['Affected'] = ncl['Confirmed'] - ncl['Deaths'] - ncl['Recovered']\n",
    "ncl = ncl.melt(id_vars=\"Country/Region\", value_vars=['Affected', 'Recovered', 'Deaths'])\n",
    "\n",
    "fig = px.bar(ncl.sort_values(['variable', 'value']), \n",
    "             x=\"Country/Region\", y=\"value\", color='variable', orientation='v', height=800,\n",
    "             title='Number of Cases outside China', color_discrete_sequence=[act, dth, rec])\n",
    "fig.update_layout(uniformtext_minsize=8, uniformtext_mode='hide')\n",
    "fig.show()\n",
    "\n",
    "# ------------------------------------------\n",
    "\n",
    "cl = china_latest.groupby('Province/State')['Confirmed', 'Deaths', 'Recovered'].sum()\n",
    "cl = cl.reset_index().sort_values(by='Confirmed', ascending=False).reset_index(drop=True)\n",
    "# cl.head().style.background_gradient(cmap='rainbow')\n",
    "\n",
    "ncl = cl.copy()\n",
    "ncl['Affected'] = ncl['Confirmed'] - ncl['Deaths'] - ncl['Recovered']\n",
    "ncl = ncl.melt(id_vars=\"Province/State\", value_vars=['Affected', 'Recovered', 'Deaths'])\n",
    "\n",
    "fig = px.bar(ncl.sort_values(['variable', 'value']), \n",
    "             y=\"Province/State\", x=\"value\", color='variable', orientation='h', height=800,\n",
    "             title='Number of Cases in China', color_discrete_sequence=[act, dth, rec])\n",
    "fig.update_layout(uniformtext_minsize=8, uniformtext_mode='hide')\n",
    "fig.show()"
   ]
  },
  {
   "cell_type": "code",
   "execution_count": null,
   "metadata": {
    "_kg_hide-input": true
   },
   "outputs": [],
   "source": [
    "# fig = px.treemap(china_latest.sort_values(by='Confirmed', ascending=False).reset_index(drop=True), \n",
    "#                  path=[\"Province/State\"], values=\"Confirmed\",\n",
    "#                  title='Number of Confirmed Cases in Chinese Provinces',\n",
    "#                  color_discrete_sequence = px.colors.qualitative.Prism)\n",
    "# fig.show()\n",
    "\n",
    "# fig = px.treemap(china_latest.sort_values(by='Deaths', ascending=False).reset_index(drop=True), \n",
    "#                  path=[\"Province/State\"], values=\"Deaths\", \n",
    "#                  title='Number of Deaths Reported in Chinese Provinces',\n",
    "#                  color_discrete_sequence = px.colors.qualitative.Prism)\n",
    "# fig.show()\n",
    "\n",
    "# fig = px.treemap(china_latest.sort_values(by='Recovered', ascending=False).reset_index(drop=True), \n",
    "#                  path=[\"Province/State\"], values=\"Recovered\", \n",
    "#                  title='Number of Recovered Cases in Chinese Provinces',\n",
    "#                  color_discrete_sequence = px.colors.qualitative.Prism)\n",
    "# fig.show()\n",
    "\n",
    "# # ----------------------------------------------------------------------------\n",
    "\n",
    "# fig = px.treemap(row_latest, path=[\"Country/Region\"], values=\"Confirmed\", \n",
    "#                  title='Number of Confirmed Cases outside china',\n",
    "#                  color_discrete_sequence = px.colors.qualitative.Pastel)\n",
    "# fig.show()\n",
    "\n",
    "# fig = px.treemap(row_latest, path=[\"Country/Region\"], values=\"Deaths\", \n",
    "#                  title='Number of Deaths outside china',\n",
    "#                  color_discrete_sequence = px.colors.qualitative.Pastel)\n",
    "# fig.show()\n",
    "\n",
    "# fig = px.treemap(row_latest, path=[\"Country/Region\"], values=\"Recovered\", \n",
    "#                  title='Number of Recovered Cases outside china',\n",
    "#                  color_discrete_sequence = px.colors.qualitative.Pastel)\n",
    "# fig.show()"
   ]
  },
  {
   "cell_type": "markdown",
   "metadata": {},
   "source": [
    "# Country Wise"
   ]
  },
  {
   "cell_type": "markdown",
   "metadata": {},
   "source": [
    "### Confirmed cases"
   ]
  },
  {
   "cell_type": "code",
   "execution_count": null,
   "metadata": {
    "_kg_hide-input": true
   },
   "outputs": [],
   "source": [
    "temp = full_table.groupby(['Date', 'Country/Region'])['Confirmed'].sum()\n",
    "temp = temp.reset_index().sort_values(by=['Date', 'Country/Region'])\n",
    "\n",
    "plt.style.use('seaborn')\n",
    "g = sns.FacetGrid(temp, col=\"Country/Region\", hue=\"Country/Region\", \n",
    "                  sharey=False, col_wrap=5)\n",
    "g = g.map(plt.plot, \"Date\", \"Confirmed\")\n",
    "g.set_xticklabels(rotation=90)\n",
    "plt.show()"
   ]
  },
  {
   "cell_type": "markdown",
   "metadata": {},
   "source": [
    "### New cases"
   ]
  },
  {
   "cell_type": "code",
   "execution_count": null,
   "metadata": {
    "_kg_hide-input": true
   },
   "outputs": [],
   "source": [
    "temp = full_table.groupby(['Country/Region', 'Date', ])['Confirmed', 'Deaths', 'Recovered']\n",
    "temp = temp.sum().diff().reset_index()\n",
    "\n",
    "mask = temp['Country/Region'] != temp['Country/Region'].shift(1)\n",
    "\n",
    "temp.loc[mask, 'Confirmed'] = np.nan\n",
    "temp.loc[mask, 'Deaths'] = np.nan\n",
    "temp.loc[mask, 'Recovered'] = np.nan\n",
    "\n",
    "plt.style.use('seaborn')\n",
    "g = sns.FacetGrid(temp, col=\"Country/Region\", hue=\"Country/Region\", \n",
    "                  sharey=False, col_wrap=5)\n",
    "g = g.map(sns.lineplot, \"Date\", \"Confirmed\")\n",
    "g.set_xticklabels(rotation=90)\n",
    "plt.show()"
   ]
  },
  {
   "cell_type": "markdown",
   "metadata": {},
   "source": [
    "# Calander map"
   ]
  },
  {
   "cell_type": "markdown",
   "metadata": {},
   "source": [
    "### Number of new cases every day"
   ]
  },
  {
   "cell_type": "code",
   "execution_count": null,
   "metadata": {
    "_kg_hide-input": true
   },
   "outputs": [],
   "source": [
    "temp = full_table.groupby('Date')['Confirmed'].sum()\n",
    "temp = temp.diff()\n",
    "\n",
    "plt.figure(figsize=(20, 5))\n",
    "ax = calmap.yearplot(temp, fillcolor='white', cmap='Reds', linewidth=0.5)"
   ]
  },
  {
   "cell_type": "markdown",
   "metadata": {},
   "source": [
    "### Number of new countries every day"
   ]
  },
  {
   "cell_type": "code",
   "execution_count": null,
   "metadata": {
    "_kg_hide-input": true
   },
   "outputs": [],
   "source": [
    "spread = full_table[full_table['Confirmed']!=0].groupby('Date')\n",
    "spread = spread['Country/Region'].unique().apply(len).diff()\n",
    "\n",
    "plt.figure(figsize=(20, 5))\n",
    "ax = calmap.yearplot(spread, fillcolor='white', cmap='Greens', linewidth=0.5)"
   ]
  },
  {
   "cell_type": "markdown",
   "metadata": {},
   "source": [
    "# Comparison with similar epidemics"
   ]
  },
  {
   "cell_type": "markdown",
   "metadata": {},
   "source": [
    "https://www.kaggle.com/imdevskp/covid19-vs-sars-vs-mers-vs-ebola-vs-h1n1\n",
    "\n"
   ]
  },
  {
   "cell_type": "code",
   "execution_count": null,
   "metadata": {
    "_kg_hide-input": true
   },
   "outputs": [],
   "source": [
    "epidemics = pd.DataFrame({\n",
    "    'epidemic' : ['COVID-19', 'SARS', 'EBOLA', 'MERS', 'H1N1'],\n",
    "    'start_year' : [2019, 2003, 2014, 2012, 2009],\n",
    "    'end_year' : [2020, 2004, 2016, 2017, 2010],\n",
    "    'confirmed' : [full_latest['Confirmed'].sum(), 8096, 28646, 2494, 6724149],\n",
    "    'deaths' : [full_latest['Deaths'].sum(), 774, 11323, 858, 19654]\n",
    "})\n",
    "\n",
    "epidemics['mortality'] = round((epidemics['deaths']/epidemics['confirmed'])*100, 2)\n",
    "\n",
    "epidemics.head()"
   ]
  },
  {
   "cell_type": "code",
   "execution_count": null,
   "metadata": {
    "_kg_hide-input": true
   },
   "outputs": [],
   "source": [
    "temp = epidemics.melt(id_vars='epidemic', value_vars=['confirmed', 'deaths', 'mortality'],\n",
    "                      var_name='Case', value_name='Value')\n",
    "\n",
    "fig = px.bar(temp, x=\"epidemic\", y=\"Value\", color='epidemic', text='Value', facet_col=\"Case\",\n",
    "             color_discrete_sequence = px.colors.qualitative.Bold)\n",
    "fig.update_traces(textposition='outside')\n",
    "fig.update_layout(uniformtext_minsize=8, uniformtext_mode='hide')\n",
    "fig.update_yaxes(showticklabels=False)\n",
    "fig.layout.yaxis2.update(matches=None)\n",
    "fig.layout.yaxis3.update(matches=None)\n",
    "fig.show()"
   ]
  },
  {
   "cell_type": "markdown",
   "metadata": {},
   "source": [
    "# Analysis on similar epidemics"
   ]
  },
  {
   "cell_type": "markdown",
   "metadata": {},
   "source": [
    "https://www.kaggle.com/imdevskp/mers-outbreak-analysis  \n",
    "https://www.kaggle.com/imdevskp/sars-2003-outbreak-analysis  \n",
    "https://www.kaggle.com/imdevskp/western-africa-ebola-outbreak-analysis\n"
   ]
  }
 ],
 "metadata": {
  "kernelspec": {
   "display_name": "Python 3",
   "language": "python",
   "name": "python3"
  },
  "language_info": {
   "codemirror_mode": {
    "name": "ipython",
    "version": 3
   },
   "file_extension": ".py",
   "mimetype": "text/x-python",
   "name": "python",
   "nbconvert_exporter": "python",
   "pygments_lexer": "ipython3",
   "version": "3.8.2"
  }
 },
 "nbformat": 4,
 "nbformat_minor": 4
}
